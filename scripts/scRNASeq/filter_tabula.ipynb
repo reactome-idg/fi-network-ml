{
 "cells": [
  {
   "cell_type": "markdown",
   "id": "1b464aee-ca88-43dd-a236-732585a04854",
   "metadata": {},
   "source": [
    "# Tabula Sapiens - Blood Dataset"
   ]
  },
  {
   "cell_type": "markdown",
   "id": "9cb003fe-12cf-49f4-af85-8fd50cd1cf66",
   "metadata": {},
   "source": [
    "#### TS_Blood.h5ad can be downloaded here: https://figshare.com/articles/dataset/Tabula_Sapiens_release_1_0/14267219?file=34701964"
   ]
  },
  {
   "cell_type": "markdown",
   "id": "f3f8794a-7938-4b26-9912-3e5a0b6529f3",
   "metadata": {},
   "source": [
    "This notebook filters the Tabula data from ~50k to ~20k genes using official UniProt gene names.\n",
    "\n",
    "\n",
    "Several parts of the AnnData are also removed to facilitate conversion to a simple Seurat object with raw counts for use in bigSCale2"
   ]
  },
  {
   "cell_type": "code",
   "execution_count": null,
   "id": "6917116c-4cf0-40fb-b36d-7aa8e2c93ed2",
   "metadata": {},
   "outputs": [],
   "source": [
    "import scanpy as sc\n",
    "import pandas as pd"
   ]
  },
  {
   "cell_type": "code",
   "execution_count": null,
   "id": "f8784428-0288-4196-829f-f3877bcf3f26",
   "metadata": {},
   "outputs": [],
   "source": [
    "tabula = sc.read_h5ad('TS_Blood.h5ad')"
   ]
  },
  {
   "cell_type": "code",
   "execution_count": null,
   "id": "349450da-4124-45c7-800f-1285d7811f40",
   "metadata": {},
   "outputs": [],
   "source": [
    "tabula"
   ]
  },
  {
   "cell_type": "code",
   "execution_count": null,
   "id": "d5753d8b-abed-4dd6-adf0-040c197bcfae",
   "metadata": {},
   "outputs": [],
   "source": [
    "df = pd.read_csv('GeneToUniProt.txt', sep='\\t')"
   ]
  },
  {
   "cell_type": "code",
   "execution_count": null,
   "id": "af968be5-cb03-46cf-a5c9-ee70924f026a",
   "metadata": {},
   "outputs": [],
   "source": [
    "gfilter = tabula.var_names.isin(df.GeneSym)"
   ]
  },
  {
   "cell_type": "code",
   "execution_count": null,
   "id": "37fca98d-10c6-4b58-ab69-0b964cddf850",
   "metadata": {},
   "outputs": [],
   "source": [
    "gfilter"
   ]
  },
  {
   "cell_type": "code",
   "execution_count": null,
   "id": "9c2b93c0-378a-4e8f-a459-a964fb3d906e",
   "metadata": {},
   "outputs": [],
   "source": [
    "pd.DataFrame.sparse.from_spmatrix(tabula.X)"
   ]
  },
  {
   "cell_type": "code",
   "execution_count": null,
   "id": "b778522e-f021-46b6-b6f9-927af008ff8f",
   "metadata": {},
   "outputs": [],
   "source": [
    "pd.DataFrame.sparse.from_spmatrix(tabula.raw.X)"
   ]
  },
  {
   "cell_type": "code",
   "execution_count": null,
   "id": "07d60caa-675b-40ca-a619-3053a96ed604",
   "metadata": {},
   "outputs": [],
   "source": [
    "tabula.var_names"
   ]
  },
  {
   "cell_type": "code",
   "execution_count": null,
   "id": "e87a9fed-c219-4d0c-9954-d6eed2a05175",
   "metadata": {},
   "outputs": [],
   "source": [
    "tabula.X = tabula.raw.X"
   ]
  },
  {
   "cell_type": "code",
   "execution_count": null,
   "id": "5fc38192-6d79-4193-8ebd-2c79fe334c1a",
   "metadata": {},
   "outputs": [],
   "source": [
    "tabula = tabula[:,gfilter].copy()"
   ]
  },
  {
   "cell_type": "code",
   "execution_count": null,
   "id": "346def58-67aa-4784-96bb-c03bb043adff",
   "metadata": {},
   "outputs": [],
   "source": [
    "tabula.var_names"
   ]
  },
  {
   "cell_type": "code",
   "execution_count": null,
   "id": "a9fd4628-3332-493b-97a9-9398b8b8e021",
   "metadata": {},
   "outputs": [],
   "source": [
    "del(tabula.raw)"
   ]
  },
  {
   "cell_type": "code",
   "execution_count": null,
   "id": "77025ab8-93ea-4e28-ae41-aed9f6ba6f91",
   "metadata": {
    "tags": []
   },
   "outputs": [],
   "source": [
    "del(tabula.layers)"
   ]
  },
  {
   "cell_type": "code",
   "execution_count": null,
   "id": "e000073c-16a9-475a-8f6c-a8870d2bb14a",
   "metadata": {},
   "outputs": [],
   "source": [
    "del(tabula.uns)"
   ]
  },
  {
   "cell_type": "code",
   "execution_count": null,
   "id": "30da2da5-f220-4cc5-a4cd-2f55545f6681",
   "metadata": {},
   "outputs": [],
   "source": [
    "del(tabula.obsp)"
   ]
  },
  {
   "cell_type": "code",
   "execution_count": null,
   "id": "855027f1-9fc5-4092-a565-28fbbb84134d",
   "metadata": {},
   "outputs": [],
   "source": [
    "tabula.var"
   ]
  },
  {
   "cell_type": "code",
   "execution_count": null,
   "id": "a47c8fc2-24e4-4e62-8386-cf1eff6be900",
   "metadata": {},
   "outputs": [],
   "source": [
    "tabula.var = tabula.var[['ensemblid']]"
   ]
  },
  {
   "cell_type": "code",
   "execution_count": null,
   "id": "85f086e1-97b0-4da8-8b50-b480a9bf8105",
   "metadata": {
    "tags": []
   },
   "outputs": [],
   "source": [
    "tabula.write('tabula_filtered.h5ad')\n",
    "# Proceed to convert to .rds"
   ]
  }
 ],
 "metadata": {
  "kernelspec": {
   "display_name": "Python 3 (ipykernel)",
   "language": "python",
   "name": "python3"
  },
  "language_info": {
   "codemirror_mode": {
    "name": "ipython",
    "version": 3
   },
   "file_extension": ".py",
   "mimetype": "text/x-python",
   "name": "python",
   "nbconvert_exporter": "python",
   "pygments_lexer": "ipython3",
   "version": "3.9.13"
  }
 },
 "nbformat": 4,
 "nbformat_minor": 5
}
