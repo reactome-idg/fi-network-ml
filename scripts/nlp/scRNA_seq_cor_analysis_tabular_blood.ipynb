{
 "cells": [
  {
   "cell_type": "markdown",
   "id": "f9c6e02a-b1f6-4107-b778-3c02209bad3d",
   "metadata": {},
   "source": [
    "To support the impact score for proteins on pathways, we also analyzed a scRNA-seq dataset downloaded from the tabular project. We did a sysetmatic correlation analysis using BigScale, a R package () using R. The generated correlation data was exported into a file and then loaded into this notebook for further analysis. The basic step is similar to the NLP analysis. Therefore, this notebook is placed in this folder for easy maintenance."
   ]
  },
  {
   "cell_type": "code",
   "execution_count": null,
   "id": "177cbdf5-bc99-415d-a5e9-aebedb251237",
   "metadata": {},
   "outputs": [],
   "source": [
    "from IPython.display import display, HTML\n",
    "# Make sure all width is used to better take the screen space\n",
    "display(HTML(\"<style>.container { width:100% !important; }</style>\"))"
   ]
  },
  {
   "cell_type": "code",
   "execution_count": null,
   "id": "1e3dfe57-5c9d-40c1-ac00-4771fea02511",
   "metadata": {},
   "outputs": [],
   "source": [
    "# Reuse functions used for NLP\n",
    "%run ./TopicModelingResultAnalyzer.py\n",
    "%run ./ReactomePathwayTopicModeling.py\n",
    "# Make sure this folder is right\n",
    "dir_name = '/Volumes/ssd/results/reactome-idg/fi-network-ml/impact_analysis/scRNASeq'"
   ]
  },
  {
   "cell_type": "code",
   "execution_count": null,
   "id": "83c6b882-0381-4fe0-ae7c-bd0f07ab90b6",
   "metadata": {},
   "outputs": [],
   "source": [
    "cor_file_name = dir_name + '/' + 'tabula_blood_corr_recursive.csv'\n",
    "# The correlation is pair-wise and the file is big. The loading is a quite slow process.\n",
    "cor_df = pd.read_csv(cor_file_name, index_col=0)"
   ]
  },
  {
   "cell_type": "code",
   "execution_count": null,
   "id": "467512fa-5c5c-4e6f-b9ea-31310e176a55",
   "metadata": {},
   "outputs": [],
   "source": [
    "print(cor_df.shape)\n",
    "cor_df.head()"
   ]
  },
  {
   "cell_type": "code",
   "execution_count": null,
   "id": "a4e2ac72-35ab-4cdc-8c67-9f7310a3fe62",
   "metadata": {},
   "outputs": [],
   "source": [
    "# Need to fix the column names. An issue from R\n",
    "cor_df.columns = cor_df.columns.map(lambda c : c.replace('.', '-'))\n",
    "cor_df"
   ]
  },
  {
   "cell_type": "code",
   "execution_count": null,
   "id": "58f43619-b059-4e37-825f-d5796535a04c",
   "metadata": {},
   "outputs": [],
   "source": [
    "cor_df.stack().plot.hist(bins=1000)\n",
    "# The distribution is quite positive with the peak around 0.50. This is a little bit unexpected!"
   ]
  },
  {
   "cell_type": "code",
   "execution_count": null,
   "id": "3ce1c076",
   "metadata": {},
   "outputs": [],
   "source": [
    "cor_df_statcked = cor_df.stack()"
   ]
  },
  {
   "cell_type": "code",
   "execution_count": null,
   "id": "3a776605",
   "metadata": {},
   "outputs": [],
   "source": [
    "cor_df_statcked.sort_values(inplace=True, ascending=False)"
   ]
  },
  {
   "cell_type": "code",
   "execution_count": null,
   "id": "87ad0e93",
   "metadata": {},
   "outputs": [],
   "source": [
    "size = cor_df_statcked.shape[0]\n",
    "print(size)\n",
    "print(np.NAN)\n",
    "cor_df_statcked[int(size * 0.001 + cor_df.shape[0])]"
   ]
  },
  {
   "cell_type": "code",
   "execution_count": null,
   "id": "7f59a91e",
   "metadata": {},
   "outputs": [],
   "source": [
    "35803 + 16000 + 6098"
   ]
  },
  {
   "cell_type": "code",
   "execution_count": null,
   "id": "d02f5508-8cef-4595-99ed-e32eb851f7d9",
   "metadata": {},
   "outputs": [],
   "source": [
    "# The following code was modified from Patrick's original jupyter notebook code\n",
    "gmt_file = dir_name + '/../' + 'ReactomePathwayGenes_Ver_77.txt'\n",
    "gmt_df = pd.read_csv(gmt_file, sep='\\t', header=None)\n",
    "gmt_df.columns = ('DB_ID', 'genes')\n",
    "gmt_df['pathway_genes'] = gmt_df['genes'].map(lambda genes : genes.split(','))\n",
    "gmt_df.set_index('DB_ID', drop=True, inplace=True)\n",
    "print(gmt_df.shape)\n",
    "gmt_df.head()"
   ]
  },
  {
   "cell_type": "code",
   "execution_count": null,
   "id": "9e796d5e-3234-4f1d-94c0-88b58a76cfec",
   "metadata": {},
   "outputs": [],
   "source": [
    "gmt_df['pathway_genes_in_cor'] = gmt_df['pathway_genes'].map(lambda genes : cor_df.index[cor_df.index.isin(genes)].to_list())\n",
    "gmt_df.head()"
   ]
  },
  {
   "cell_type": "code",
   "execution_count": null,
   "id": "7c4388f6-ecdf-4537-9ff9-3f559cc3bc4c",
   "metadata": {},
   "outputs": [],
   "source": [
    "impact_result_df = load_impact_results()\n",
    "print(impact_result_df.shape)\n",
    "impact_result_df.head()"
   ]
  },
  {
   "cell_type": "code",
   "execution_count": null,
   "id": "bcb6c092-74b0-4ab5-ae0b-f4e10d726f19",
   "metadata": {},
   "outputs": [],
   "source": [
    "# Functions use to calculate median and mean values of correlations for pathway genes.\n",
    "counter = 0\n",
    "def calculate_cor_summary(pathway_id: int,\n",
    "                          gene: str,\n",
    "                          gmt_df: pd.DataFrame,\n",
    "                          cor_df: pd.DataFrame,\n",
    "                          func) -> float:\n",
    "    global counter\n",
    "    counter = counter + 1\n",
    "    # Get pathway genes\n",
    "    # Need to copy the list to avoid change the original list in the dataframe\n",
    "    pathway_genes = [*gmt_df.loc[pathway_id]['pathway_genes_in_cor']]\n",
    "    # Remove gene itself if it is there\n",
    "    if gene in pathway_genes:\n",
    "        pathway_genes.remove(gene)\n",
    "    # Get the correlation values for gene\n",
    "    gene_cor = cor_df.loc[gene]\n",
    "    # The above returns a series indexed by gene names\n",
    "    pathway_gene_cor = gene_cor[pathway_genes]\n",
    "    # Pick pairs having at least three values\n",
    "    if pathway_gene_cor.size < 3:\n",
    "        # print('Not enough genes for {} vs {}.'.format(pathway_id, gene))\n",
    "        return np.NaN\n",
    "    rtn = func(np.abs(pathway_gene_cor))\n",
    "    if counter % 1000 == 0:\n",
    "        print(\"Total running: {}.\".format(counter))\n",
    "    return rtn\n",
    "\n",
    "def calculate_row_summary(row, func) -> float:\n",
    "    return calculate_cor_summary(row.DBID,\n",
    "                                 row.Gene,\n",
    "                                 gmt_df,\n",
    "                                 cor_df,\n",
    "                                 func)\n",
    "\n",
    "value = calculate_cor_summary(416476, 'NOC2L', gmt_df, cor_df, func=np.mean)\n",
    "print(\"Mean: {}\".format(value))\n",
    "# Based on https://jakevdp.github.io/PythonDataScienceHandbook/01.07-timing-and-profiling.html\n",
    "# %load_ext line_profiler\n",
    "# %lprun -f calculate_cor_summary calculate_cor_summary(416476, 'NOC2L', gmt_df, cor_df, func=np.mean)"
   ]
  },
  {
   "cell_type": "code",
   "execution_count": null,
   "id": "571ce8b2-75b1-428c-9088-ce15f4749d38",
   "metadata": {},
   "outputs": [],
   "source": [
    "#Make sure genes in impact_results have correlation values\n",
    "print('Before filtering: {}'.format(impact_result_df.shape))\n",
    "selected_rows = impact_result_df['Gene'].isin(cor_df.index)\n",
    "impact_result_df_selected = impact_result_df[selected_rows]\n",
    "print('After filtering: {}'.format(impact_result_df_selected.shape))\n",
    "impact_result_df_selected.head()\n",
    "# add two columns\n",
    "# Two slow steps for multiple calculations\n",
    "# For quick check\n",
    "# impact_result_df_selected = impact_result_df_selected.iloc[:10000, ]\n",
    "counter = 0\n",
    "impact_result_df_selected['Median_Cor'] = impact_result_df_selected.apply(lambda row : calculate_row_summary(row, np.median), axis=1)\n",
    "counter = 0\n",
    "impact_result_df_selected['Mean_Cor'] = impact_result_df_selected.apply(lambda row : calculate_row_summary(row, np.mean), axis=1)\n",
    "impact_result_df_selected.head()"
   ]
  },
  {
   "cell_type": "code",
   "execution_count": null,
   "id": "020e22e6-cb69-4cf1-9ab4-462f5b02a782",
   "metadata": {},
   "outputs": [],
   "source": [
    "# Save the output to avoid running it again\n",
    "file_name = dir_name + '/' + 'impact_result_df_selected_081922.csv'\n",
    "impact_result_df_selected.to_csv(file_name)"
   ]
  },
  {
   "cell_type": "code",
   "execution_count": null,
   "id": "564eb2a9",
   "metadata": {},
   "outputs": [],
   "source": [
    "# Re-load the file\n",
    "file_name = dir_name + '/' + 'impact_result_df_selected_081922.csv'\n",
    "impact_result_df_selected = pd.read_csv(file_name)"
   ]
  },
  {
   "cell_type": "code",
   "execution_count": null,
   "id": "4dfa3d05",
   "metadata": {},
   "outputs": [],
   "source": [
    "from scipy import stats\n",
    "import numpy as np\n",
    "etf1_result = impact_result_df_selected[impact_result_df_selected.Gene == 'ETF1']\n",
    "print(etf1_result.head())\n",
    "stats.pearsonr(etf1_result.Median_Cor, -np.log10(etf1_result.FDR))"
   ]
  },
  {
   "cell_type": "code",
   "execution_count": null,
   "id": "809a9497-70c7-4f20-af6e-ef7db0f77314",
   "metadata": {},
   "outputs": [],
   "source": [
    "import seaborn as sns\n",
    "import matplotlib.pyplot as plt\n",
    "fig, axes = plt.subplots(nrows=2, ncols=2)\n",
    "fig.set_figwidth(30)\n",
    "fig.set_figheight(16)\n",
    "sns.histplot(impact_result_df_selected.Median_Cor, ax = axes[0][0])\n",
    "sns.histplot(impact_result_df_selected.Mean_Cor, ax = axes[0][1])\n",
    "sns.histplot(-np.log10(impact_result_df_selected.FDR), ax = axes[1][0])\n",
    "g = sns.histplot(impact_result_df_selected.Average_Activation, ax = axes[1][1])\n",
    "g.set_ylim(0, 25000)"
   ]
  },
  {
   "cell_type": "code",
   "execution_count": null,
   "id": "1e05d175",
   "metadata": {
    "tags": []
   },
   "outputs": [],
   "source": [
    "# Calculate correlation\n",
    "# %pip install -U ipykernel\n",
    "# print(impact_result_df_selected.columns)\n",
    "def calculate_correlation(impact_col_name: str = 'FDR',\n",
    "                          cor_col_name: str = 'Median_Cor',\n",
    "                          impact_result_df_selected: pd.DataFrame = impact_result_df_selected):\n",
    "    df_cor_fdr_cor = pd.DataFrame(columns=['Gene', 'Pearson_Cor', 'Peason_P_Value', 'Spearm_Cor', 'Spearm_P_Value', 'length'])\n",
    "    new_index = 0\n",
    "    for gene in impact_result_df_selected.Gene.unique():\n",
    "        # if gene != 'RPL11':\n",
    "        #     continue\n",
    "        which_rows = impact_result_df_selected.Gene == gene\n",
    "        pathway_median_gene = impact_result_df_selected[which_rows]\n",
    "        # print(pathway_median_gene.head())\n",
    "        pathway_median_gene = impact_result_df_selected[which_rows][['DBID', cor_col_name]]\n",
    "        pathway2median = dict()\n",
    "        for index, row in pathway_median_gene.iterrows():\n",
    "            if np.isnan(row[cor_col_name]):\n",
    "                continue\n",
    "            pathway2median[int(row['DBID'])] = row[cor_col_name]\n",
    "        gene_impact_df = impact_result_df_selected[impact_result_df_selected.Gene == gene]\n",
    "        results = calculate_cor_impact_cosine(pathway2median, \n",
    "                                              gene_impact_df,\n",
    "                                              col_name = impact_col_name,\n",
    "                                              use_pathway_name=False)\n",
    "        # print(results)\n",
    "        if results is None:\n",
    "            continue\n",
    "        df_cor_fdr_cor.loc[new_index] = [gene, results[0][0], results[0][1], results[1][0], results[1][1], results[2]]\n",
    "        new_index = new_index + 1\n",
    "        if new_index % 1000 == 0:\n",
    "            print(new_index)\n",
    "        # if new_index == 5:\n",
    "        #     break    \n",
    "    return df_cor_fdr_cor\n"
   ]
  },
  {
   "cell_type": "code",
   "execution_count": null,
   "id": "b35596fa",
   "metadata": {},
   "outputs": [],
   "source": [
    "# Correlation between FDR and median_cor\n",
    "df_cor_fdr_cor = calculate_correlation(impact_col_name='FDR')\n",
    "df_cor_fdr_cor.head()\n",
    "# Save the output of the above\n",
    "#file_name = dir_name + '/df_cor_fdr_median_cor_081922.csv'\n",
    "#df_cor_fdr_cor.to_csv(file_name)"
   ]
  },
  {
   "cell_type": "code",
   "execution_count": null,
   "id": "026d89e5",
   "metadata": {},
   "outputs": [],
   "source": [
    "# Correlation between Average Activation and meidan_cor\n",
    "df_cor_activation_cor = calculate_correlation(impact_col_name='Average_Activation')\n",
    "print(df_cor_activation_cor.head())\n",
    "file_name = dir_name + '/df_cor_average_activation_median_cor_081922.csv'\n",
    "df_cor_activation_cor.to_csv(file_name)"
   ]
  },
  {
   "cell_type": "code",
   "execution_count": null,
   "id": "026d89e5",
   "metadata": {},
   "outputs": [],
   "source": [
    "# Correlation between Average inhibition and meidan_cor\n",
    "df_cor_inhibition_cor = calculate_correlation(impact_col_name='Average_Inhibition')\n",
    "print(df_cor_inhibition_cor.head())\n",
    "file_name = dir_name + '/df_cor_average_inhibition_median_cor_081922.csv'\n",
    "df_cor_inhibition_cor.to_csv(file_name)"
   ]
  },
  {
   "cell_type": "markdown",
   "id": "320f724b",
   "metadata": {},
   "source": []
  },
  {
   "cell_type": "code",
   "execution_count": null,
   "id": "f03bd3f6",
   "metadata": {},
   "outputs": [],
   "source": [
    "# import pandas\n",
    "file_name = dir_name + '//df_cor_average_inhibition_median_cor_081922.csv'\n",
    "df_cor_inhibition_cor = pandas.read_csv(file_name)\n",
    "fig, axes = plt.subplots(nrows=1, ncols=3)\n",
    "fig.set_figwidth(30)\n",
    "fig.set_figheight(10)\n",
    "sns.scatterplot(x = df_cor_fdr_cor.Pearson_Cor, y = -np.log10(df_cor_fdr_cor.Peason_P_Value), ax = axes[0], size=8)\n",
    "sns.scatterplot(x = df_cor_activation_cor.Pearson_Cor, y = -np.log10(df_cor_activation_cor.Peason_P_Value), ax = axes[1], size=8)\n",
    "sns.scatterplot(x = df_cor_inhibition_cor.Pearson_Cor, y = -np.log10(df_cor_inhibition_cor.Peason_P_Value), ax = axes[2], size=8)"
   ]
  },
  {
   "cell_type": "markdown",
   "id": "fdff4465",
   "metadata": {},
   "source": [
    "Try to follow the original approach used in the BigScale paper about building gene regulatory network by choosing the top 0.1% of correlations (not absolute values). Performed an enrichment analysis for each gene in the filtered network in Java. The following is correlation analysis between this enrichment scores and previous enrichment scores."
   ]
  },
  {
   "cell_type": "code",
   "execution_count": null,
   "id": "c569ac3c",
   "metadata": {},
   "outputs": [],
   "source": [
    "import pandas as pd\n",
    "file_name = dir_name + \"/../impact_analysis_092121_with_enrichment_092921_with_scRNASeq_082322.txt\"\n",
    "impact_result_df_with_bigscale = pd.read_csv(file_name, sep = '\\t')\n",
    "impact_result_df_with_bigscale.head()"
   ]
  },
  {
   "cell_type": "code",
   "execution_count": null,
   "id": "964c8245",
   "metadata": {},
   "outputs": [],
   "source": [
    "impact_result_df_with_bigscale['BigScale_FDR_Log10'] = impact_result_df_with_bigscale.BigScale_FDR.map(lambda f : -np.log10(f))\n",
    "print(impact_result_df_with_bigscale.head())\n",
    "df_cor_fdr_bigscale = calculate_correlation(cor_col_name='BigScale_FDR_Log10', impact_result_df_selected=impact_result_df_with_bigscale)\n",
    "file_name = dir_name + '/df_cor_fdr_bigscale_082322.csv'\n",
    "df_cor_fdr_bigscale.to_csv(file_name)"
   ]
  },
  {
   "cell_type": "code",
   "execution_count": null,
   "id": "fa60543d",
   "metadata": {},
   "outputs": [],
   "source": [
    "df_cor_average_activation_bigscale = calculate_correlation(cor_col_name='BigScale_FDR_Log10', \n",
    "                                                           impact_col_name='Average_Activation',\n",
    "                                                           impact_result_df_selected=impact_result_df_with_bigscale)\n",
    "file_name = dir_name + '/df_cor_average_activation_bigscale_082322.csv'\n",
    "df_cor_average_activation_bigscale.to_csv(file_name)\n",
    "df_cor_average_inhibition_bigscale = calculate_correlation(cor_col_name='BigScale_FDR_Log10', \n",
    "                                                           impact_col_name='Average_Inhibition',\n",
    "                                                           impact_result_df_selected=impact_result_df_with_bigscale)\n",
    "file_name = dir_name + '/df_cor_average_inhibition_bigscale_082322.csv'\n",
    "df_cor_average_inhibition_bigscale.to_csv(file_name)"
   ]
  },
  {
   "cell_type": "code",
   "execution_count": null,
   "id": "5a8b1728",
   "metadata": {},
   "outputs": [],
   "source": [
    "# Plots\n",
    "fig, axes = plt.subplots(nrows=1, ncols=3)\n",
    "fig.set_figwidth(30)\n",
    "fig.set_figheight(10)\n",
    "sns.scatterplot(x = df_cor_fdr_bigscale.Pearson_Cor, y = -np.log10(df_cor_fdr_bigscale.Peason_P_Value), ax = axes[0], size=8)\n",
    "sns.scatterplot(x = df_cor_average_activation_bigscale.Pearson_Cor, y = -np.log10(df_cor_average_activation_bigscale.Peason_P_Value), ax = axes[1], size=8)\n",
    "# Typo in the above\n",
    "df_cor_average_inhibition_bigscale = df_cor_inhibition_activation_bigscale\n",
    "sns.scatterplot(x = df_cor_average_inhibition_bigscale.Pearson_Cor, y = -np.log10(df_cor_average_inhibition_bigscale.Peason_P_Value), ax = axes[2], size=8)"
   ]
  }
 ],
 "metadata": {
  "kernelspec": {
   "display_name": "Python 3.8.12 ('flair')",
   "language": "python",
   "name": "python3"
  },
  "language_info": {
   "codemirror_mode": {
    "name": "ipython",
    "version": 3
   },
   "file_extension": ".py",
   "mimetype": "text/x-python",
   "name": "python",
   "nbconvert_exporter": "python",
   "pygments_lexer": "ipython3",
   "version": "3.8.12"
  },
  "vscode": {
   "interpreter": {
    "hash": "986f3f6afe08f2d688d53234c683086f434a856ab496c44e148f45b060779eaa"
   }
  }
 },
 "nbformat": 4,
 "nbformat_minor": 5
}
